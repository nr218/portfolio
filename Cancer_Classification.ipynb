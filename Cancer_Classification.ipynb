{
 "cells": [
  {
   "cell_type": "markdown",
   "metadata": {},
   "source": [
    "## Cancer Classification from Gene Expression\n",
    "\n",
    "The purpose of this project is to build a classification model to distinguish between two related classes of cancer, acute lymphoblastic leukemia (ALL) and acute myeloid leukemia (AML), using gene expression measurements.\n",
    "\n",
    "Each row in this dataset corresponds to a tumor tissue sample from a patient with one of the two forms of Leukemia. The first column contains the cancer type, with 0 indicating the ALL class and 1 indicating the AML class. Columns 2-7130 contain expression levels of 7129 genes recorded from each tissue sample. \n",
    "\n",
    "I will be using Principal Components Analysis (PCA) to visualize the data and reduce its dimensions. I will also be using linear and logistic regression to build the classification model for this dataset."
   ]
  },
  {
   "cell_type": "markdown",
   "metadata": {},
   "source": [
    "<hr style=\"height:2pt\">"
   ]
  },
  {
   "cell_type": "code",
   "execution_count": 13,
   "metadata": {},
   "outputs": [],
   "source": [
    "import numpy as np\n",
    "import pandas as pd\n",
    "\n",
    "import statsmodels.api as sm\n",
    "from statsmodels.api import OLS\n",
    "\n",
    "from sklearn.decomposition import PCA\n",
    "from sklearn.linear_model import LogisticRegression\n",
    "from sklearn.linear_model import LogisticRegressionCV\n",
    "from sklearn.discriminant_analysis import LinearDiscriminantAnalysis\n",
    "from sklearn.discriminant_analysis import QuadraticDiscriminantAnalysis\n",
    "from sklearn.preprocessing import PolynomialFeatures\n",
    "from sklearn.neighbors import KNeighborsClassifier\n",
    "from sklearn.model_selection import cross_val_score\n",
    "from sklearn.metrics import accuracy_score\n",
    "from sklearn.model_selection import KFold\n",
    "\n",
    "import math\n",
    "from scipy.special import gamma\n",
    "\n",
    "import matplotlib\n",
    "import matplotlib.pyplot as plt\n",
    "%matplotlib inline\n",
    "\n",
    "import seaborn as sns\n",
    "sns.set()\n",
    "\n",
    "alpha = 0.5"
   ]
  },
  {
   "cell_type": "markdown",
   "metadata": {},
   "source": [
    "### Data Exploration and Pre-Processing"
   ]
  },
  {
   "cell_type": "code",
   "execution_count": 46,
   "metadata": {
    "collapsed": true
   },
   "outputs": [],
   "source": [
    "df = pd.read_csv('cancer_df.csv')\n",
    "msk = np.random.rand(len(df)) < 0.5\n",
    "data_train = df[msk]\n",
    "data_test = df[~msk]"
   ]
  },
  {
   "cell_type": "code",
   "execution_count": 47,
   "metadata": {
    "scrolled": true
   },
   "outputs": [
    {
     "data": {
      "text/html": [
       "<div>\n",
       "<style>\n",
       "    .dataframe thead tr:only-child th {\n",
       "        text-align: right;\n",
       "    }\n",
       "\n",
       "    .dataframe thead th {\n",
       "        text-align: left;\n",
       "    }\n",
       "\n",
       "    .dataframe tbody tr th {\n",
       "        vertical-align: top;\n",
       "    }\n",
       "</style>\n",
       "<table border=\"1\" class=\"dataframe\">\n",
       "  <thead>\n",
       "    <tr style=\"text-align: right;\">\n",
       "      <th></th>\n",
       "      <th>Cancer_type</th>\n",
       "      <th>AFFX-BioB-5_at</th>\n",
       "      <th>AFFX-BioB-M_at</th>\n",
       "      <th>AFFX-BioB-3_at</th>\n",
       "      <th>AFFX-BioC-5_at</th>\n",
       "      <th>AFFX-BioC-3_at</th>\n",
       "      <th>AFFX-BioDn-5_at</th>\n",
       "      <th>AFFX-BioDn-3_at</th>\n",
       "      <th>AFFX-CreX-5_at</th>\n",
       "      <th>AFFX-CreX-3_at</th>\n",
       "      <th>...</th>\n",
       "      <th>U48730_at</th>\n",
       "      <th>U58516_at</th>\n",
       "      <th>U73738_at</th>\n",
       "      <th>X06956_at</th>\n",
       "      <th>X16699_at</th>\n",
       "      <th>X83863_at</th>\n",
       "      <th>Z17240_at</th>\n",
       "      <th>L49218_f_at</th>\n",
       "      <th>M71243_f_at</th>\n",
       "      <th>Z78285_f_at</th>\n",
       "    </tr>\n",
       "  </thead>\n",
       "  <tbody>\n",
       "    <tr>\n",
       "      <th>0</th>\n",
       "      <td>0</td>\n",
       "      <td>-214</td>\n",
       "      <td>-153</td>\n",
       "      <td>-58</td>\n",
       "      <td>88</td>\n",
       "      <td>-295</td>\n",
       "      <td>-558</td>\n",
       "      <td>199</td>\n",
       "      <td>-176</td>\n",
       "      <td>252</td>\n",
       "      <td>...</td>\n",
       "      <td>185</td>\n",
       "      <td>511</td>\n",
       "      <td>-125</td>\n",
       "      <td>389</td>\n",
       "      <td>-37</td>\n",
       "      <td>793</td>\n",
       "      <td>329</td>\n",
       "      <td>36</td>\n",
       "      <td>191</td>\n",
       "      <td>-37</td>\n",
       "    </tr>\n",
       "    <tr>\n",
       "      <th>3</th>\n",
       "      <td>0</td>\n",
       "      <td>-72</td>\n",
       "      <td>-144</td>\n",
       "      <td>238</td>\n",
       "      <td>55</td>\n",
       "      <td>-399</td>\n",
       "      <td>-551</td>\n",
       "      <td>131</td>\n",
       "      <td>-179</td>\n",
       "      <td>126</td>\n",
       "      <td>...</td>\n",
       "      <td>30</td>\n",
       "      <td>819</td>\n",
       "      <td>-178</td>\n",
       "      <td>151</td>\n",
       "      <td>-18</td>\n",
       "      <td>1140</td>\n",
       "      <td>482</td>\n",
       "      <td>10</td>\n",
       "      <td>369</td>\n",
       "      <td>-42</td>\n",
       "    </tr>\n",
       "    <tr>\n",
       "      <th>5</th>\n",
       "      <td>0</td>\n",
       "      <td>-67</td>\n",
       "      <td>-93</td>\n",
       "      <td>84</td>\n",
       "      <td>25</td>\n",
       "      <td>-179</td>\n",
       "      <td>-323</td>\n",
       "      <td>-135</td>\n",
       "      <td>-127</td>\n",
       "      <td>-2</td>\n",
       "      <td>...</td>\n",
       "      <td>48</td>\n",
       "      <td>224</td>\n",
       "      <td>60</td>\n",
       "      <td>194</td>\n",
       "      <td>-10</td>\n",
       "      <td>291</td>\n",
       "      <td>41</td>\n",
       "      <td>8</td>\n",
       "      <td>-2</td>\n",
       "      <td>-80</td>\n",
       "    </tr>\n",
       "    <tr>\n",
       "      <th>7</th>\n",
       "      <td>0</td>\n",
       "      <td>-107</td>\n",
       "      <td>-72</td>\n",
       "      <td>-126</td>\n",
       "      <td>149</td>\n",
       "      <td>-205</td>\n",
       "      <td>-284</td>\n",
       "      <td>-166</td>\n",
       "      <td>-185</td>\n",
       "      <td>1</td>\n",
       "      <td>...</td>\n",
       "      <td>120</td>\n",
       "      <td>722</td>\n",
       "      <td>20</td>\n",
       "      <td>332</td>\n",
       "      <td>-5</td>\n",
       "      <td>195</td>\n",
       "      <td>59</td>\n",
       "      <td>31</td>\n",
       "      <td>116</td>\n",
       "      <td>-18</td>\n",
       "    </tr>\n",
       "    <tr>\n",
       "      <th>8</th>\n",
       "      <td>0</td>\n",
       "      <td>-117</td>\n",
       "      <td>-219</td>\n",
       "      <td>-50</td>\n",
       "      <td>257</td>\n",
       "      <td>-218</td>\n",
       "      <td>-402</td>\n",
       "      <td>228</td>\n",
       "      <td>-147</td>\n",
       "      <td>65</td>\n",
       "      <td>...</td>\n",
       "      <td>79</td>\n",
       "      <td>631</td>\n",
       "      <td>-26</td>\n",
       "      <td>455</td>\n",
       "      <td>-62</td>\n",
       "      <td>736</td>\n",
       "      <td>445</td>\n",
       "      <td>42</td>\n",
       "      <td>247</td>\n",
       "      <td>-43</td>\n",
       "    </tr>\n",
       "  </tbody>\n",
       "</table>\n",
       "<p>5 rows × 7130 columns</p>\n",
       "</div>"
      ],
      "text/plain": [
       "   Cancer_type  AFFX-BioB-5_at  AFFX-BioB-M_at  AFFX-BioB-3_at  \\\n",
       "0            0            -214            -153             -58   \n",
       "3            0             -72            -144             238   \n",
       "5            0             -67             -93              84   \n",
       "7            0            -107             -72            -126   \n",
       "8            0            -117            -219             -50   \n",
       "\n",
       "   AFFX-BioC-5_at  AFFX-BioC-3_at  AFFX-BioDn-5_at  AFFX-BioDn-3_at  \\\n",
       "0              88            -295             -558              199   \n",
       "3              55            -399             -551              131   \n",
       "5              25            -179             -323             -135   \n",
       "7             149            -205             -284             -166   \n",
       "8             257            -218             -402              228   \n",
       "\n",
       "   AFFX-CreX-5_at  AFFX-CreX-3_at     ...       U48730_at  U58516_at  \\\n",
       "0            -176             252     ...             185        511   \n",
       "3            -179             126     ...              30        819   \n",
       "5            -127              -2     ...              48        224   \n",
       "7            -185               1     ...             120        722   \n",
       "8            -147              65     ...              79        631   \n",
       "\n",
       "   U73738_at  X06956_at  X16699_at  X83863_at  Z17240_at  L49218_f_at  \\\n",
       "0       -125        389        -37        793        329           36   \n",
       "3       -178        151        -18       1140        482           10   \n",
       "5         60        194        -10        291         41            8   \n",
       "7         20        332         -5        195         59           31   \n",
       "8        -26        455        -62        736        445           42   \n",
       "\n",
       "   M71243_f_at  Z78285_f_at  \n",
       "0          191          -37  \n",
       "3          369          -42  \n",
       "5           -2          -80  \n",
       "7          116          -18  \n",
       "8          247          -43  \n",
       "\n",
       "[5 rows x 7130 columns]"
      ]
     },
     "execution_count": 47,
     "metadata": {},
     "output_type": "execute_result"
    }
   ],
   "source": [
    "data_train.head()"
   ]
  },
  {
   "cell_type": "markdown",
   "metadata": {},
   "source": [
    "Upon observing the dataframe, I noticed that there appears to be severe differences in the measurements from one gene to the next (some are negative, while others are around zero and some into the thousands). In order to account for these vast differences in scale and variability, I will be normalizing each predictor to vary between 0 and 1. \n",
    "\n",
    "In order to normalize the data, I will be using the following equation:\n",
    "$$x_i^{\\prime} = \\frac{x_i - \\min{x}}{\\max{x} - \\min{x}}.$$\n"
   ]
  },
  {
   "cell_type": "code",
   "execution_count": 48,
   "metadata": {
    "collapsed": true
   },
   "outputs": [],
   "source": [
    "# creating a function to normalize all columns in the dataframe\n",
    "def normalize_columns(X, X_min, X_max):\n",
    "    return (X-X_min)/(X_max-X_min)\n",
    "\n",
    "X_min = np.min(data_train,axis=0)\n",
    "X_max = np.max(data_train,axis=0)\n",
    "\n",
    "data_train = normalize_columns(X=data_train, X_min=X_min, X_max=X_max)\n",
    "data_test = normalize_columns(X=data_test, X_min=X_min, X_max=X_max)   \n",
    "\n",
    "assert np.max(data_train.values)==1 and np.min(data_train.values)==0    "
   ]
  },
  {
   "cell_type": "code",
   "execution_count": 49,
   "metadata": {},
   "outputs": [
    {
     "data": {
      "text/html": [
       "<div>\n",
       "<style>\n",
       "    .dataframe thead tr:only-child th {\n",
       "        text-align: right;\n",
       "    }\n",
       "\n",
       "    .dataframe thead th {\n",
       "        text-align: left;\n",
       "    }\n",
       "\n",
       "    .dataframe tbody tr th {\n",
       "        vertical-align: top;\n",
       "    }\n",
       "</style>\n",
       "<table border=\"1\" class=\"dataframe\">\n",
       "  <thead>\n",
       "    <tr style=\"text-align: right;\">\n",
       "      <th></th>\n",
       "      <th>Cancer_type</th>\n",
       "      <th>AFFX-BioB-5_at</th>\n",
       "      <th>AFFX-BioB-M_at</th>\n",
       "      <th>AFFX-BioB-3_at</th>\n",
       "      <th>AFFX-BioC-5_at</th>\n",
       "      <th>AFFX-BioC-3_at</th>\n",
       "      <th>AFFX-BioDn-5_at</th>\n",
       "      <th>AFFX-BioDn-3_at</th>\n",
       "      <th>AFFX-CreX-5_at</th>\n",
       "      <th>AFFX-CreX-3_at</th>\n",
       "      <th>...</th>\n",
       "      <th>U48730_at</th>\n",
       "      <th>U58516_at</th>\n",
       "      <th>U73738_at</th>\n",
       "      <th>X06956_at</th>\n",
       "      <th>X16699_at</th>\n",
       "      <th>X83863_at</th>\n",
       "      <th>Z17240_at</th>\n",
       "      <th>L49218_f_at</th>\n",
       "      <th>M71243_f_at</th>\n",
       "      <th>Z78285_f_at</th>\n",
       "    </tr>\n",
       "  </thead>\n",
       "  <tbody>\n",
       "    <tr>\n",
       "      <th>count</th>\n",
       "      <td>37.000000</td>\n",
       "      <td>37.000000</td>\n",
       "      <td>37.000000</td>\n",
       "      <td>37.000000</td>\n",
       "      <td>37.000000</td>\n",
       "      <td>37.000000</td>\n",
       "      <td>37.000000</td>\n",
       "      <td>37.000000</td>\n",
       "      <td>37.000000</td>\n",
       "      <td>37.000000</td>\n",
       "      <td>...</td>\n",
       "      <td>37.000000</td>\n",
       "      <td>37.000000</td>\n",
       "      <td>37.000000</td>\n",
       "      <td>37.000000</td>\n",
       "      <td>37.000000</td>\n",
       "      <td>37.000000</td>\n",
       "      <td>37.000000</td>\n",
       "      <td>37.000000</td>\n",
       "      <td>37.000000</td>\n",
       "      <td>37.000000</td>\n",
       "    </tr>\n",
       "    <tr>\n",
       "      <th>mean</th>\n",
       "      <td>0.351351</td>\n",
       "      <td>0.737990</td>\n",
       "      <td>0.738965</td>\n",
       "      <td>0.367833</td>\n",
       "      <td>0.393290</td>\n",
       "      <td>0.446655</td>\n",
       "      <td>0.569688</td>\n",
       "      <td>0.672930</td>\n",
       "      <td>0.616530</td>\n",
       "      <td>0.589797</td>\n",
       "      <td>...</td>\n",
       "      <td>0.446380</td>\n",
       "      <td>0.465920</td>\n",
       "      <td>0.538981</td>\n",
       "      <td>0.191599</td>\n",
       "      <td>0.660160</td>\n",
       "      <td>0.333819</td>\n",
       "      <td>0.285570</td>\n",
       "      <td>0.659308</td>\n",
       "      <td>0.146967</td>\n",
       "      <td>0.668155</td>\n",
       "    </tr>\n",
       "    <tr>\n",
       "      <th>std</th>\n",
       "      <td>0.483978</td>\n",
       "      <td>0.191568</td>\n",
       "      <td>0.184832</td>\n",
       "      <td>0.244597</td>\n",
       "      <td>0.257859</td>\n",
       "      <td>0.208153</td>\n",
       "      <td>0.250852</td>\n",
       "      <td>0.200634</td>\n",
       "      <td>0.204078</td>\n",
       "      <td>0.230322</td>\n",
       "      <td>...</td>\n",
       "      <td>0.201848</td>\n",
       "      <td>0.254305</td>\n",
       "      <td>0.235105</td>\n",
       "      <td>0.175682</td>\n",
       "      <td>0.210450</td>\n",
       "      <td>0.214713</td>\n",
       "      <td>0.194345</td>\n",
       "      <td>0.169714</td>\n",
       "      <td>0.185908</td>\n",
       "      <td>0.186360</td>\n",
       "    </tr>\n",
       "    <tr>\n",
       "      <th>min</th>\n",
       "      <td>0.000000</td>\n",
       "      <td>0.000000</td>\n",
       "      <td>0.000000</td>\n",
       "      <td>0.000000</td>\n",
       "      <td>0.000000</td>\n",
       "      <td>0.000000</td>\n",
       "      <td>0.000000</td>\n",
       "      <td>0.000000</td>\n",
       "      <td>0.000000</td>\n",
       "      <td>0.000000</td>\n",
       "      <td>...</td>\n",
       "      <td>0.000000</td>\n",
       "      <td>0.000000</td>\n",
       "      <td>0.000000</td>\n",
       "      <td>0.000000</td>\n",
       "      <td>0.000000</td>\n",
       "      <td>0.000000</td>\n",
       "      <td>0.000000</td>\n",
       "      <td>0.000000</td>\n",
       "      <td>0.000000</td>\n",
       "      <td>0.000000</td>\n",
       "    </tr>\n",
       "    <tr>\n",
       "      <th>25%</th>\n",
       "      <td>0.000000</td>\n",
       "      <td>0.669439</td>\n",
       "      <td>0.654440</td>\n",
       "      <td>0.172708</td>\n",
       "      <td>0.155172</td>\n",
       "      <td>0.329508</td>\n",
       "      <td>0.343066</td>\n",
       "      <td>0.598490</td>\n",
       "      <td>0.555814</td>\n",
       "      <td>0.400000</td>\n",
       "      <td>...</td>\n",
       "      <td>0.344754</td>\n",
       "      <td>0.287409</td>\n",
       "      <td>0.423077</td>\n",
       "      <td>0.111055</td>\n",
       "      <td>0.551852</td>\n",
       "      <td>0.208178</td>\n",
       "      <td>0.134783</td>\n",
       "      <td>0.614907</td>\n",
       "      <td>0.071097</td>\n",
       "      <td>0.595652</td>\n",
       "    </tr>\n",
       "    <tr>\n",
       "      <th>50%</th>\n",
       "      <td>0.000000</td>\n",
       "      <td>0.767152</td>\n",
       "      <td>0.762548</td>\n",
       "      <td>0.360341</td>\n",
       "      <td>0.374384</td>\n",
       "      <td>0.500000</td>\n",
       "      <td>0.571168</td>\n",
       "      <td>0.687714</td>\n",
       "      <td>0.669767</td>\n",
       "      <td>0.587500</td>\n",
       "      <td>...</td>\n",
       "      <td>0.408994</td>\n",
       "      <td>0.461679</td>\n",
       "      <td>0.567308</td>\n",
       "      <td>0.139073</td>\n",
       "      <td>0.677778</td>\n",
       "      <td>0.310409</td>\n",
       "      <td>0.266087</td>\n",
       "      <td>0.667702</td>\n",
       "      <td>0.100850</td>\n",
       "      <td>0.682609</td>\n",
       "    </tr>\n",
       "    <tr>\n",
       "      <th>75%</th>\n",
       "      <td>1.000000</td>\n",
       "      <td>0.866944</td>\n",
       "      <td>0.857143</td>\n",
       "      <td>0.469083</td>\n",
       "      <td>0.571429</td>\n",
       "      <td>0.573770</td>\n",
       "      <td>0.771898</td>\n",
       "      <td>0.802334</td>\n",
       "      <td>0.730233</td>\n",
       "      <td>0.782500</td>\n",
       "      <td>...</td>\n",
       "      <td>0.563169</td>\n",
       "      <td>0.574818</td>\n",
       "      <td>0.695513</td>\n",
       "      <td>0.211921</td>\n",
       "      <td>0.800000</td>\n",
       "      <td>0.405824</td>\n",
       "      <td>0.371304</td>\n",
       "      <td>0.739130</td>\n",
       "      <td>0.136012</td>\n",
       "      <td>0.773913</td>\n",
       "    </tr>\n",
       "    <tr>\n",
       "      <th>max</th>\n",
       "      <td>1.000000</td>\n",
       "      <td>1.000000</td>\n",
       "      <td>1.000000</td>\n",
       "      <td>1.000000</td>\n",
       "      <td>1.000000</td>\n",
       "      <td>1.000000</td>\n",
       "      <td>1.000000</td>\n",
       "      <td>1.000000</td>\n",
       "      <td>1.000000</td>\n",
       "      <td>1.000000</td>\n",
       "      <td>...</td>\n",
       "      <td>1.000000</td>\n",
       "      <td>1.000000</td>\n",
       "      <td>1.000000</td>\n",
       "      <td>1.000000</td>\n",
       "      <td>1.000000</td>\n",
       "      <td>1.000000</td>\n",
       "      <td>1.000000</td>\n",
       "      <td>1.000000</td>\n",
       "      <td>1.000000</td>\n",
       "      <td>1.000000</td>\n",
       "    </tr>\n",
       "  </tbody>\n",
       "</table>\n",
       "<p>8 rows × 7130 columns</p>\n",
       "</div>"
      ],
      "text/plain": [
       "       Cancer_type  AFFX-BioB-5_at  AFFX-BioB-M_at  AFFX-BioB-3_at  \\\n",
       "count    37.000000       37.000000       37.000000       37.000000   \n",
       "mean      0.351351        0.737990        0.738965        0.367833   \n",
       "std       0.483978        0.191568        0.184832        0.244597   \n",
       "min       0.000000        0.000000        0.000000        0.000000   \n",
       "25%       0.000000        0.669439        0.654440        0.172708   \n",
       "50%       0.000000        0.767152        0.762548        0.360341   \n",
       "75%       1.000000        0.866944        0.857143        0.469083   \n",
       "max       1.000000        1.000000        1.000000        1.000000   \n",
       "\n",
       "       AFFX-BioC-5_at  AFFX-BioC-3_at  AFFX-BioDn-5_at  AFFX-BioDn-3_at  \\\n",
       "count       37.000000       37.000000        37.000000        37.000000   \n",
       "mean         0.393290        0.446655         0.569688         0.672930   \n",
       "std          0.257859        0.208153         0.250852         0.200634   \n",
       "min          0.000000        0.000000         0.000000         0.000000   \n",
       "25%          0.155172        0.329508         0.343066         0.598490   \n",
       "50%          0.374384        0.500000         0.571168         0.687714   \n",
       "75%          0.571429        0.573770         0.771898         0.802334   \n",
       "max          1.000000        1.000000         1.000000         1.000000   \n",
       "\n",
       "       AFFX-CreX-5_at  AFFX-CreX-3_at     ...       U48730_at  U58516_at  \\\n",
       "count       37.000000       37.000000     ...       37.000000  37.000000   \n",
       "mean         0.616530        0.589797     ...        0.446380   0.465920   \n",
       "std          0.204078        0.230322     ...        0.201848   0.254305   \n",
       "min          0.000000        0.000000     ...        0.000000   0.000000   \n",
       "25%          0.555814        0.400000     ...        0.344754   0.287409   \n",
       "50%          0.669767        0.587500     ...        0.408994   0.461679   \n",
       "75%          0.730233        0.782500     ...        0.563169   0.574818   \n",
       "max          1.000000        1.000000     ...        1.000000   1.000000   \n",
       "\n",
       "       U73738_at  X06956_at  X16699_at  X83863_at  Z17240_at  L49218_f_at  \\\n",
       "count  37.000000  37.000000  37.000000  37.000000  37.000000    37.000000   \n",
       "mean    0.538981   0.191599   0.660160   0.333819   0.285570     0.659308   \n",
       "std     0.235105   0.175682   0.210450   0.214713   0.194345     0.169714   \n",
       "min     0.000000   0.000000   0.000000   0.000000   0.000000     0.000000   \n",
       "25%     0.423077   0.111055   0.551852   0.208178   0.134783     0.614907   \n",
       "50%     0.567308   0.139073   0.677778   0.310409   0.266087     0.667702   \n",
       "75%     0.695513   0.211921   0.800000   0.405824   0.371304     0.739130   \n",
       "max     1.000000   1.000000   1.000000   1.000000   1.000000     1.000000   \n",
       "\n",
       "       M71243_f_at  Z78285_f_at  \n",
       "count    37.000000    37.000000  \n",
       "mean      0.146967     0.668155  \n",
       "std       0.185908     0.186360  \n",
       "min       0.000000     0.000000  \n",
       "25%       0.071097     0.595652  \n",
       "50%       0.100850     0.682609  \n",
       "75%       0.136012     0.773913  \n",
       "max       1.000000     1.000000  \n",
       "\n",
       "[8 rows x 7130 columns]"
      ]
     },
     "execution_count": 49,
     "metadata": {},
     "output_type": "execute_result"
    }
   ],
   "source": [
    "# Checking to see if the data values lie between 0 and 1\n",
    "data_train.describe()"
   ]
  },
  {
   "cell_type": "code",
   "execution_count": 50,
   "metadata": {},
   "outputs": [
    {
     "data": {
      "text/plain": [
       "(37, 7130)"
      ]
     },
     "execution_count": 50,
     "metadata": {},
     "output_type": "execute_result"
    }
   ],
   "source": [
    "data_train.shape"
   ]
  },
  {
   "cell_type": "markdown",
   "metadata": {},
   "source": [
    "Looking at the shape of the dataset the number of predictor variables greatly exceeds the number of observations in the data frame. With many more predictors than observations, the model is grossly underidentified/underdetermined. In such a sitution we could risk finding spurious relationships between predictors and response."
   ]
  },
  {
   "cell_type": "markdown",
   "metadata": {},
   "source": [
    "### Exploring how the genes `D29963_at`, `M23161_at`, `hum_alu_at`, and `AFFX-PheX-5_at` discriminate between cancer classes"
   ]
  },
  {
   "cell_type": "code",
   "execution_count": 51,
   "metadata": {},
   "outputs": [
    {
     "data": {
      "image/png": "[encoded data removed]",
      "text/plain": [
       "<matplotlib.figure.Figure at 0x1c1e0ecb70>"
      ]
     },
     "metadata": {},
     "output_type": "display_data"
    }
   ],
   "source": [
    "top_alpha = 0.35\n",
    "\n",
    "fig, ax = plt.subplots(2, 2, figsize=(12, 8))\n",
    "\n",
    "fig.suptitle(\"Gene Expression Differences by Cancer Class\")\n",
    "\n",
    "ax[0,0].hist(data_train[data_train.Cancer_type == 0]['D29963_at'], \n",
    "           label=\"Cancer Type = 0\", density=True,\n",
    "           alpha=alpha)\n",
    "\n",
    "ax[0,0].hist(data_train[data_train.Cancer_type == 1]['D29963_at'], \n",
    "           label=\"Cancer Type = 1\", density=True,\n",
    "           alpha=top_alpha)\n",
    "\n",
    "ax[0,0].set_ylabel('Normalized Counts')\n",
    "ax[0,0].set_title('D29963_at')\n",
    "\n",
    "ax[0,1].hist(data_train[data_train.Cancer_type == 0]['M23161_at'], \n",
    "           label=\"Cancer Type = 0\", density=True,\n",
    "           alpha=alpha)\n",
    "\n",
    "ax[0,1].hist(data_train[data_train.Cancer_type == 1]['M23161_at'], \n",
    "           label=\"Cancer Type = 1\", density=True,\n",
    "           alpha=top_alpha)\n",
    "\n",
    "ax[0,1].set_title('M23161_at')\n",
    "\n",
    "ax[1,0].hist(data_train[data_train.Cancer_type == 0]['hum_alu_at'], \n",
    "           label=\"Cancer Type = 0\", density=True,\n",
    "           alpha=alpha)\n",
    "\n",
    "ax[1,0].hist(data_train[data_train.Cancer_type == 1]['hum_alu_at'], \n",
    "           label=\"Cancer Type = 1\", density=True,\n",
    "           alpha=top_alpha)\n",
    "\n",
    "ax[1,0].set_title('hum_alu_at')\n",
    "ax[1,0].set_xlabel('Normalized Gene Value')\n",
    "ax[1,0].set_ylabel('Normalized Counts')\n",
    "\n",
    "ax[1,1].hist(data_train[data_train.Cancer_type == 0]['AFFX-PheX-5_at'], \n",
    "           label=\"Cancer Type = 0\", density=True,\n",
    "           alpha=alpha)\n",
    "\n",
    "ax[1,1].hist(data_train[data_train.Cancer_type == 1]['AFFX-PheX-5_at'], \n",
    "           label=\"Cancer Type = 1\", density=True,\n",
    "           alpha=top_alpha)\n",
    "\n",
    "ax[1,1].set_title('AFFX-PheX-5_at')\n",
    "ax[1,1].set_xlabel('Normalized Gene Value');"
   ]
  },
  {
   "cell_type": "markdown",
   "metadata": {},
   "source": [
    "The distributions of gene expression for this subset look very similar across cancer types. `D29963_at` seems the most promising of the bunch."
   ]
  },
  {
   "cell_type": "markdown",
   "metadata": {},
   "source": [
    "### Using PCA to visualize the data"
   ]
  },
  {
   "cell_type": "code",
   "execution_count": 52,
   "metadata": {},
   "outputs": [
    {
     "name": "stdout",
     "output_type": "stream",
     "text": [
      "The first two principal components explain 0.276 of the variance.\n"
     ]
    },
    {
     "data": {
      "image/png": "[encoded data removed]",
      "text/plain": [
       "<matplotlib.figure.Figure at 0x1c1e10f240>"
      ]
     },
     "metadata": {},
     "output_type": "display_data"
    }
   ],
   "source": [
    "# split out target variable\n",
    "X_train = data_train.iloc[:,1:]\n",
    "y_train = data_train.iloc[:,0]\n",
    "X_test = data_test.iloc[:,1:]\n",
    "y_test = data_test.iloc[:,0]\n",
    "\n",
    "# pca\n",
    "pca = PCA(n_components=2)\n",
    "pca.fit(X_train)\n",
    "X_train_pca = pca.transform(X_train)\n",
    "print(\"The first two principal components explain %0.3f of the variance.\"\n",
    "      % np.sum(pca.explained_variance_ratio_))\n",
    "\n",
    "# scatter plot\n",
    "X_train_pca_df = pd.DataFrame(X_train_pca, columns=[\"pca1\", \"pca2\"])\n",
    "X_train_pca_df[\"Cancer_type\"] = y_train.values\n",
    "sns.lmplot(x=\"pca1\", \n",
    "           y=\"pca2\", \n",
    "           hue=\"Cancer_type\", \n",
    "           data=X_train_pca_df,\n",
    "           fit_reg=False, \n",
    "           legend=False, \n",
    "           palette='bwr')\n",
    "plt.title('Top Two Principal Components')\n",
    "plt.legend();"
   ]
  },
  {
   "cell_type": "markdown",
   "metadata": {},
   "source": [
    "It's difficult to draw a decision boundary (even a non-linear one) that perfectly separates red from blue points. However, there’s clearly some useful info in these two components in terms of creating a classifier."
   ]
  },
  {
   "cell_type": "markdown",
   "metadata": {},
   "source": [
    "#### Exploring the fit of Linear Regression vs Logistic Regression in Building the Classification Model\n",
    "\n",
    "Using the single gene predictor `D29963_at` I will be fitting a simple **linear regression model** to the training set. "
   ]
  },
  {
   "cell_type": "code",
   "execution_count": 53,
   "metadata": {
    "collapsed": true
   },
   "outputs": [],
   "source": [
    "# add column to house intercept\n",
    "X_train_wcons = sm.add_constant(X_train[[\"D29963_at\"]])\n",
    "X_test_wcons = sm.add_constant(X_test[[\"D29963_at\"]])\n",
    "\n",
    "# fit\n",
    "ols = OLS(endog=y_train, exog=X_train_wcons).fit()"
   ]
  },
  {
   "cell_type": "markdown",
   "metadata": {},
   "source": [
    "Converting the fitted linear regression model to a classification model (i.e. a model that predicts one of two binary labels 0 or 1) by classifying patients with predicted score greater than 0.5 into `Cancer_type`=1, and the others into the `Cancer_type`=0. "
   ]
  },
  {
   "cell_type": "code",
   "execution_count": 54,
   "metadata": {},
   "outputs": [
    {
     "name": "stdout",
     "output_type": "stream",
     "text": [
      "OLS single predictor accuracy in train = 0.811\n",
      "OLS single predictor accuracy in test = 0.778\n"
     ]
    }
   ],
   "source": [
    "# predictions\n",
    "y_hat_ols_train = ols.predict(X_train_wcons)\n",
    "y_hat_ols_test = ols.predict(X_test_wcons)\n",
    "\n",
    "# accuracy\n",
    "print(\"OLS single predictor accuracy in train = %0.3f\" \n",
    "      % accuracy_score(y_train, y_hat_ols_train>0.5))\n",
    "\n",
    "print(\"OLS single predictor accuracy in test = %0.3f\" \n",
    "      % accuracy_score(y_test, y_hat_ols_test>0.5))"
   ]
  },
  {
   "cell_type": "markdown",
   "metadata": {},
   "source": [
    "Next, I will be fitting a simple **logistic regression model** to the training set. "
   ]
  },
  {
   "cell_type": "code",
   "execution_count": 55,
   "metadata": {
    "collapsed": true
   },
   "outputs": [],
   "source": [
    "logreg = LogisticRegression(C=100000, fit_intercept=False)\n",
    "logreg.fit(X_train_wcons, y_train);"
   ]
  },
  {
   "cell_type": "code",
   "execution_count": 56,
   "metadata": {
    "scrolled": false
   },
   "outputs": [
    {
     "name": "stdout",
     "output_type": "stream",
     "text": [
      "Training Accuracy: 0.811\n",
      "Test Accuracy: 0.750\n"
     ]
    }
   ],
   "source": [
    "y_hat_logreg_train = logreg.predict_proba(X_train_wcons)[:,1]\n",
    "y_hat_logreg_test = logreg.predict_proba(X_test_wcons)[:,1]\n",
    "\n",
    "# accuracy\n",
    "print(\"Training Accuracy: %0.3f\" % accuracy_score(y_train, y_hat_logreg_train>0.5))\n",
    "print(\"Test Accuracy: %0.3f\" % accuracy_score(y_test, y_hat_logreg_test>0.5))"
   ]
  },
  {
   "cell_type": "markdown",
   "metadata": {},
   "source": [
    "* Logistic regression yields the same test accuracy as the linear regression model.\n"
   ]
  },
  {
   "cell_type": "code",
   "execution_count": 57,
   "metadata": {},
   "outputs": [
    {
     "data": {
      "image/png": "[encoded data removed]",
      "text/plain": [
       "<matplotlib.figure.Figure at 0x1c158a9438>"
      ]
     },
     "metadata": {},
     "output_type": "display_data"
    }
   ],
   "source": [
    "fig, ax = plt.subplots(1, 1, figsize=(12, 8))\n",
    "\n",
    "fig.suptitle(\"\")\n",
    "\n",
    "ax.scatter(X_train[[\"D29963_at\"]], \n",
    "           y_hat_ols_train, \n",
    "           label=\"OLS\", \n",
    "           c='blue', \n",
    "           alpha=alpha, \n",
    "           edgecolor='none', s=40)\n",
    "\n",
    "ax.scatter(X_train[[\"D29963_at\"]], \n",
    "           y_hat_logreg_train, \n",
    "           label=\"logreg\", \n",
    "           c='red', \n",
    "           alpha=alpha, \n",
    "           edgecolor='none', s=40)\n",
    "\n",
    "ax.scatter(X_train[[\"D29963_at\"]], \n",
    "           y_train, \n",
    "           label=\"Cancer_type\", \n",
    "           c='black', \n",
    "           alpha=alpha, \n",
    "           edgecolor='none', s=40)\n",
    "\n",
    "ax.legend(loc='best');\n",
    "ax.set_xlabel('D29963_at Value')\n",
    "ax.set_ylabel('Predicted probability / true y')\n",
    "ax.set_title('TrainingClassification Comparison');"
   ]
  },
  {
   "cell_type": "markdown",
   "metadata": {},
   "source": [
    "* Both OLS and Logistic Regression appear to yield similar predicted values. \n",
    "* Based on this figure, the Logistic Regression model does appear to be a better fit. Given that Logistic Regression gives us a valid probability, the Logistic Regression model would be preferred over the OLS model."
   ]
  },
  {
   "cell_type": "markdown",
   "metadata": {},
   "source": [
    "### Multiple Logistic Regression"
   ]
  },
  {
   "cell_type": "code",
   "execution_count": 58,
   "metadata": {
    "collapsed": true
   },
   "outputs": [],
   "source": [
    "logregmul = LogisticRegression(C=100000, fit_intercept=False)\n",
    "\n",
    "X_train_mul_wcons = sm.add_constant(X_train)\n",
    "X_test_mul_wcons = sm.add_constant(X_test)\n",
    "\n",
    "logregmul.fit(X_train_mul_wcons, y_train);"
   ]
  },
  {
   "cell_type": "code",
   "execution_count": 59,
   "metadata": {},
   "outputs": [
    {
     "name": "stdout",
     "output_type": "stream",
     "text": [
      "Training Accuracy: 1.000\n",
      "Test Accuracy: 1.000\n"
     ]
    }
   ],
   "source": [
    "y_hat_logregmul_train = logregmul.predict_proba(X_train_mul_wcons)[:,1]\n",
    "y_hat_logregmul_test = logregmul.predict_proba(X_test_mul_wcons)[:,1]\n",
    "\n",
    "# accuracy\n",
    "print(\"Training Accuracy: %0.3f\" % accuracy_score(y_train, y_hat_logregmul_train>0.5))\n",
    "print(\"Test Accuracy: %0.3f\" % accuracy_score(y_test, y_hat_logregmul_test>0.5))"
   ]
  },
  {
   "cell_type": "markdown",
   "metadata": {},
   "source": [
    "* Accuracy in both training and test improves considerably with all genes vs a single gene."
   ]
  },
  {
   "cell_type": "markdown",
   "metadata": {},
   "source": [
    "#####  Visualizing the probabilties predicted by the fitted multiple logistic regression model on both the training and test data sets. \n",
    "\n",
    "The function creates a visualization that places the data points on a vertical line based on the predicted probabilities, with the different cancer classes shown in different colors, and with the 0.5 threshold highlighted using a dotted horizontal line. "
   ]
  },
  {
   "cell_type": "code",
   "execution_count": 60,
   "metadata": {
    "collapsed": true
   },
   "outputs": [],
   "source": [
    "# function to visualize the probabilities predicted by a Logistic Regression model\n",
    "# Input: \n",
    "#      model (Logistic regression model)\n",
    "#      x (n x d array of predictors in training data)\n",
    "#      y (n x 1 array of response variable vals in training data: 0 or 1)\n",
    "#      ax (an axis object to generate the plot)\n",
    "\n",
    "def visualize_prob(model, x, y, ax):\n",
    "    # Use the model to predict probabilities for\n",
    "    y_pred = model.predict_proba(x)\n",
    "    \n",
    "    # Separate the predictions on the label 1 and label 0 points\n",
    "    ypos = y_pred[y==1]\n",
    "    yneg = y_pred[y==0]\n",
    "    \n",
    "    # Count the number of label 1 and label 0 points\n",
    "    npos = ypos.shape[0]\n",
    "    nneg = yneg.shape[0]\n",
    "    \n",
    "    # Plot the probabilities on a vertical line at x = 0, \n",
    "    # with the positive points in blue and negative points in red\n",
    "    pos_handle = ax.plot(np.zeros((npos,1)), ypos[:,1], 'bo', label = 'Cancer Type 1')\n",
    "    neg_handle = ax.plot(np.zeros((nneg,1)), yneg[:,1], 'ro', label = 'Cancer Type 0')\n",
    "\n",
    "    # Line to mark prob 0.5\n",
    "    ax.axhline(y = 0.5, color = 'k', linestyle = '--')\n",
    "    \n",
    "    # Add y-label and legend, do not display x-axis, set y-axis limit\n",
    "    ax.set_ylabel('Probability of AML class')\n",
    "    ax.legend(loc = 'best')\n",
    "    ax.get_xaxis().set_visible(False)\n",
    "    ax.set_ylim([0,1])"
   ]
  },
  {
   "cell_type": "code",
   "execution_count": 61,
   "metadata": {},
   "outputs": [
    {
     "data": {
      "image/png": "[encoded data removed]",
      "text/plain": [
       "<matplotlib.figure.Figure at 0x111c429b0>"
      ]
     },
     "metadata": {},
     "output_type": "display_data"
    }
   ],
   "source": [
    "\"\"\" Plot classification model \"\"\"\n",
    "\n",
    "fig, ax = plt.subplots(1, 2, figsize=(15, 8))\n",
    "\n",
    "fig.suptitle(\"\")\n",
    "\n",
    "visualize_prob(logregmul, \n",
    "               X_train_mul_wcons, \n",
    "               y_train, ax[0])\n",
    "ax[0].set_title('Training Data')\n",
    "\n",
    "visualize_prob(logregmul, \n",
    "               X_test_mul_wcons, \n",
    "               y_test, ax[1])\n",
    "ax[1].set_title('Test Data');"
   ]
  },
  {
   "cell_type": "markdown",
   "metadata": {},
   "source": [
    "* In training the probabilities are either 1 or 0. In test probabilities a handful of predicted probabilities fall closer to 0.5. \n",
    "* For these points, we are unsure if we should predict $\\hat{y}=0$ or $\\hat{y}=1$."
   ]
  },
  {
   "cell_type": "markdown",
   "metadata": {},
   "source": [
    "##### Analyzing Significance of Coefficients"
   ]
  },
  {
   "cell_type": "code",
   "execution_count": 62,
   "metadata": {
    "collapsed": true
   },
   "outputs": [],
   "source": [
    "iterations = 1000\n",
    "\n",
    "b_genes_boot = np.zeros((X_train_mul_wcons.shape[1],iterations))\n",
    "\n",
    "for i in range(iterations):\n",
    "    # sample with replacement from X_train\n",
    "    boot_rows = np.random.choice(range(X_train_mul_wcons.shape[0]), size=X_train_mul_wcons.shape[0], replace=True)\n",
    "    X_train_boot = X_train_mul_wcons.values[boot_rows]\n",
    "    y_train_boot = y_train.values[boot_rows]\n",
    "\n",
    "    # fit\n",
    "    logregmul_boot = LogisticRegression(C=100000, fit_intercept=False)\n",
    "    logregmul_boot.fit(X_train_boot, y_train_boot)\n",
    "    b_genes_boot[:,i] = logregmul_boot.coef_\n"
   ]
  },
  {
   "cell_type": "code",
   "execution_count": 63,
   "metadata": {
    "collapsed": true
   },
   "outputs": [],
   "source": [
    "# constructing confidence intervals\n",
    "b_genes_ci_upper = np.percentile(b_genes_boot, 97.5, axis=1)\n",
    "b_genes_ci_lower = np.percentile(b_genes_boot, 2.5, axis=1)"
   ]
  },
  {
   "cell_type": "code",
   "execution_count": 64,
   "metadata": {},
   "outputs": [
    {
     "name": "stdout",
     "output_type": "stream",
     "text": [
      "Significant coefficents at 5pct level = 1843 / 7130\n"
     ]
    }
   ],
   "source": [
    "# significant predictors\n",
    "sig_b_ct = 0\n",
    "\n",
    "# if ci contains 0, then insignificant\n",
    "for i in range(X_train_mul_wcons.shape[1]):\n",
    "    if b_genes_ci_upper[i]<=0 or b_genes_ci_lower[i]>=0:\n",
    "        sig_b_ct += 1\n",
    "\n",
    "print(\"Significant coefficents at 5pct level = %i / %i\" % (sig_b_ct, X_train_mul_wcons.shape[1]))"
   ]
  },
  {
   "cell_type": "markdown",
   "metadata": {},
   "source": [
    "### Using PCA and Dimensionality Reduction\n",
    "\n",
    "In order to reduce the dimensionality of the data I will be using PCA and fit a logistic regression model on the smallest set of principal components that explain at least 90% of the variance in the predictors.\n"
   ]
  },
  {
   "cell_type": "code",
   "execution_count": 65,
   "metadata": {},
   "outputs": [
    {
     "name": "stdout",
     "output_type": "stream",
     "text": [
      "The first 27 components explain 0.907 of variance\n"
     ]
    }
   ],
   "source": [
    "pca = PCA()\n",
    "pca.fit(X_train)\n",
    "var_c = np.cumsum(pca.explained_variance_ratio_)\n",
    "\n",
    "n_components_pca = np.sum(var_c<0.9)\n",
    "print(\"The first %i components explain %0.3f of variance\" % (n_components_pca+1, var_c[n_components_pca]))\n",
    "\n",
    "X_train_pca = pca.transform(X_train)[:,:n_components_pca]\n",
    "X_test_pca = pca.transform(X_test)[:,:n_components_pca]"
   ]
  },
  {
   "cell_type": "code",
   "execution_count": 66,
   "metadata": {},
   "outputs": [
    {
     "name": "stdout",
     "output_type": "stream",
     "text": [
      "Training Accuracy: 1.000\n",
      "Test Accuracy: 0.944\n"
     ]
    }
   ],
   "source": [
    "logregpca = LogisticRegression(C=100000, fit_intercept=True)\n",
    "logregpca.fit(X_train_pca, y_train)\n",
    "\n",
    "y_hat_pca_train = logregpca.predict_proba(X_train_pca)[:,1]\n",
    "y_hat_pca_test = logregpca.predict_proba(X_test_pca)[:,1]\n",
    "\n",
    "# accuracy\n",
    "print(\"Training Accuracy: %0.3f\" % accuracy_score(y_train, y_hat_pca_train>0.5))\n",
    "print(\"Test Accuracy: %0.3f\" % accuracy_score(y_test, y_hat_pca_test>0.5))"
   ]
  },
  {
   "cell_type": "markdown",
   "metadata": {},
   "source": [
    "* The accuracy in train is identical for pca + logreg vs logreg. The testing accuracy dropped slightly with PCA. "
   ]
  },
  {
   "cell_type": "code",
   "execution_count": 67,
   "metadata": {},
   "outputs": [
    {
     "data": {
      "image/png": "[encoded data removed]",
      "text/plain": [
       "<matplotlib.figure.Figure at 0x113147748>"
      ]
     },
     "metadata": {},
     "output_type": "display_data"
    }
   ],
   "source": [
    "f, (ax1, ax2) = plt.subplots(1, 2, figsize=(15, 8))\n",
    "visualize_prob(\n",
    "    model=logregpca,\n",
    "    x=X_train_pca,\n",
    "    y=y_train,\n",
    "    ax=ax1)\n",
    "ax1.set_title(\"TRAIN\")\n",
    "visualize_prob(\n",
    "    model=logregpca,\n",
    "    x=X_test_pca,\n",
    "    y=y_test,\n",
    "    ax=ax2)\n",
    "ax2.set_title(\"TEST\")\n",
    "plt.tight_layout()"
   ]
  },
  {
   "cell_type": "markdown",
   "metadata": {},
   "source": [
    "* With the all-predictor logit model we risk finding spurious relationships between predictors and response.\n",
    "* Using PCA we hope to find some lower dimensional representation of our predictors that retains our predictive power but hopefully is less vulnerable to overfitting. \n",
    "* In training, the pca+logit model is still able to exactly distinguish between ALL and AML. However we see our performance has not improved in test (we have a misclassified point)."
   ]
  },
  {
   "cell_type": "code",
   "execution_count": null,
   "metadata": {
    "collapsed": true
   },
   "outputs": [],
   "source": []
  }
 ],
 "metadata": {
  "anaconda-cloud": {},
  "kernelspec": {
   "display_name": "Python 3",
   "language": "python",
   "name": "python3"
  },
  "language_info": {
   "codemirror_mode": {
    "name": "ipython",
    "version": 3
   },
   "file_extension": ".py",
   "mimetype": "text/x-python",
   "name": "python",
   "nbconvert_exporter": "python",
   "pygments_lexer": "ipython3",
   "version": "3.6.3"
  }
 },
 "nbformat": 4,
 "nbformat_minor": 2
}
